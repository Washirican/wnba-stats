{
 "cells": [
  {
   "cell_type": "code",
   "execution_count": 1,
   "id": "86abaf8c-d9e4-48ea-81ef-adf1624fbc07",
   "metadata": {},
   "outputs": [],
   "source": [
    "from tabulate import tabulate\n",
    "\n",
    "import utils as u\n",
    "from database import Database"
   ]
  },
  {
   "cell_type": "code",
   "execution_count": 2,
   "id": "890eaa74-7d56-48ab-8082-9efa7410e33f",
   "metadata": {},
   "outputs": [
    {
     "name": "stdin",
     "output_type": "stream",
     "text": [
      "Enter player name (Last, First):  Clark, Caitlin\n"
     ]
    }
   ],
   "source": [
    "player_name_input = input('Enter player name (Last, First): ')"
   ]
  },
  {
   "cell_type": "code",
   "execution_count": 4,
   "id": "d88195bd-1228-432d-ac51-1c7ba278b706",
   "metadata": {},
   "outputs": [],
   "source": [
    " # Query shot chart details data\n",
    "db = Database(user=\"wnba_data_user\", password=\"password\",\n",
    "          host=\"localhost\",\n",
    "          port=\"5432\", database=\"wnba_data\")"
   ]
  },
  {
   "cell_type": "code",
   "execution_count": 5,
   "id": "ab06049c-4f27-4c93-a9b6-ab0533404b92",
   "metadata": {},
   "outputs": [
    {
     "name": "stderr",
     "output_type": "stream",
     "text": [
      "INFO: 25-Jul-24 10:47:24 - Connected to PostgreSQL database!\n"
     ]
    }
   ],
   "source": [
    "db.connect()"
   ]
  },
  {
   "cell_type": "code",
   "execution_count": 6,
   "id": "5df8be0f-9ce7-45f9-8b6c-687a76545438",
   "metadata": {},
   "outputs": [],
   "source": [
    "player = db.fetch_one(f\"SELECT * FROM players WHERE player_name = '{player_name_input}'\")"
   ]
  },
  {
   "cell_type": "code",
   "execution_count": 7,
   "id": "5b29d015-82ae-49f2-a6ab-d02f84891583",
   "metadata": {},
   "outputs": [
    {
     "data": {
      "text/plain": [
       "('1642286', 'Clark, Caitlin', '1', '2024', '2024', '0', 'fever')"
      ]
     },
     "execution_count": 7,
     "metadata": {},
     "output_type": "execute_result"
    }
   ],
   "source": [
    "player"
   ]
  },
  {
   "cell_type": "code",
   "execution_count": 8,
   "id": "ff2f28f6-e8bf-4d51-b9ca-d044b8302f97",
   "metadata": {},
   "outputs": [],
   "source": [
    "career_stats = db.fetch_all(f\"select * from player_career_stats where player_id = '{player[0]}'\")"
   ]
  },
  {
   "cell_type": "code",
   "execution_count": 12,
   "id": "d4207bc4-8e9c-4d66-b39b-df03e9c349aa",
   "metadata": {},
   "outputs": [
    {
     "name": "stdout",
     "output_type": "stream",
     "text": [
      "[('1642286', '2024-25', '10', '1611661325', 'IND', '22.0', '26', '26', '35.2', '5.3', '13.1', '0.405', '2.7', '8.3', '0.327', '3.8', '4.2', '0.891', '0.4', '5.4', '5.8', '8.2', '1.5', '0.8', '5.6', '2.9', '17.1')]\n"
     ]
    }
   ],
   "source": [
    "print(career_stats)"
   ]
  },
  {
   "cell_type": "code",
   "execution_count": 14,
   "id": "a9003bde-52c7-43f8-a6d2-11bc3e04b991",
   "metadata": {},
   "outputs": [
    {
     "name": "stdout",
     "output_type": "stream",
     "text": [
      "+-----------+-----------+-----------+------------+-------------------+------------+----+----+------+-----+------+--------+------+------+---------+-----+-----+--------+------+------+-----+-----+-----+-----+-----+-----+------+\n",
      "| player_id | season_id | league_id |  team_id   | team_abbreviation | player_age | gp | gs | min  | fgm | fga  | fg_pct | fg3m | fg3a | fg3_pct | ftm | fta | ft_pct | oreb | dreb | reb | ast | stl | blk | tov | pf  | pts  |\n",
      "+-----------+-----------+-----------+------------+-------------------+------------+----+----+------+-----+------+--------+------+------+---------+-----+-----+--------+------+------+-----+-----+-----+-----+-----+-----+------+\n",
      "|  1642286  |  2024-25  |    10     | 1611661325 |        IND        |    22.0    | 26 | 26 | 35.2 | 5.3 | 13.1 | 0.405  | 2.7  | 8.3  |  0.327  | 3.8 | 4.2 | 0.891  | 0.4  | 5.4  | 5.8 | 8.2 | 1.5 | 0.8 | 5.6 | 2.9 | 17.1 |\n",
      "+-----------+-----------+-----------+------------+-------------------+------------+----+----+------+-----+------+--------+------+------+---------+-----+-----+--------+------+------+-----+-----+-----+-----+-----+-----+------+\n"
     ]
    }
   ],
   "source": [
    "headers_tuple = db.fetch_all(\"SELECT column_name FROM information_schema.columns WHERE table_name = 'player_career_stats';\")\n",
    "headers_list = [i[0] for i in headers_tuple]\n",
    "\n",
    "# Print tabulated career totals per season\n",
    "print(tabulate(career_stats, headers=headers_list, tablefmt=\"pretty\"))"
   ]
  },
  {
   "cell_type": "code",
   "execution_count": null,
   "id": "8b3ae621-6845-46b7-b4a6-8abc4a4bf8f8",
   "metadata": {},
   "outputs": [],
   "source": []
  }
 ],
 "metadata": {
  "kernelspec": {
   "display_name": "Python 3 (ipykernel)",
   "language": "python",
   "name": "python3"
  },
  "language_info": {
   "codemirror_mode": {
    "name": "ipython",
    "version": 3
   },
   "file_extension": ".py",
   "mimetype": "text/x-python",
   "name": "python",
   "nbconvert_exporter": "python",
   "pygments_lexer": "ipython3",
   "version": "3.12.1"
  }
 },
 "nbformat": 4,
 "nbformat_minor": 5
}
